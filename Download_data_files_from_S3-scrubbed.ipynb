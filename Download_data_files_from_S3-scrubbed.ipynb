{
 "cells": [
  {
   "cell_type": "code",
   "execution_count": 8,
   "metadata": {},
   "outputs": [],
   "source": [
    "import boto3\n",
    "import botocore\n",
    "import os, shutil"
   ]
  },
  {
   "cell_type": "code",
   "execution_count": 9,
   "metadata": {},
   "outputs": [],
   "source": [
    "# deletes existing files in local destination folder\n",
    "folder = '/Users/username/folder/'\n",
    "\n",
    "for the_file in os.listdir(folder):\n",
    "    file_path = os.path.join(folder, the_file)\n",
    "    try:\n",
    "        if os.path.isfile(file_path):\n",
    "            os.unlink(file_path)\n",
    "    except Exception as e:\n",
    "        print(e)"
   ]
  },
  {
   "cell_type": "code",
   "execution_count": 10,
   "metadata": {},
   "outputs": [],
   "source": [
    "# Starts Boto3 and S3 sessions\n",
    "session = boto3.session.Session(profile_name='myprofile')\n",
    "s3_resource = session.resource('s3')"
   ]
  },
  {
   "cell_type": "code",
   "execution_count": 11,
   "metadata": {},
   "outputs": [],
   "source": [
    "# Identifies the S3 bucket from where to download objects\n",
    "my_bucket = s3_resource.Bucket('bucketname')"
   ]
  },
  {
   "cell_type": "code",
   "execution_count": 12,
   "metadata": {},
   "outputs": [],
   "source": [
    "# lambda that gets the last modified time of objects\n",
    "get_last_modified = lambda obj: int(obj.last_modified.strftime('%s'))"
   ]
  },
  {
   "cell_type": "code",
   "execution_count": 13,
   "metadata": {},
   "outputs": [],
   "source": [
    "unsorted = []\n",
    "\n",
    "# filters through the bucket and appends objects to the unsorted list\n",
    "for file in my_bucket.objects.filter():\n",
    "    unsorted.append(file)\n",
    "\n",
    "# sorts unsorted by last modified time (14 most recent files)\n",
    "latest_files = [obj.key for obj in sorted(unsorted, key=get_last_modified, reverse=True)][0:14]"
   ]
  },
  {
   "cell_type": "code",
   "execution_count": 14,
   "metadata": {},
   "outputs": [],
   "source": [
    "# Downloads only the csv files from the bucket and places them in the local destination folder\n",
    "for file in latest_files:\n",
    "    if file.endswith('.csv'):\n",
    "        s3_resource.meta.client.download_file('bucketname', file, '/Users/username/folder/' + file)"
   ]
  }
 ],
 "metadata": {
  "anaconda-cloud": {},
  "kernelspec": {
   "display_name": "Python [conda root]",
   "language": "python",
   "name": "conda-root-py"
  },
  "language_info": {
   "codemirror_mode": {
    "name": "ipython",
    "version": 3
   },
   "file_extension": ".py",
   "mimetype": "text/x-python",
   "name": "python",
   "nbconvert_exporter": "python",
   "pygments_lexer": "ipython3",
   "version": "3.6.6"
  }
 },
 "nbformat": 4,
 "nbformat_minor": 2
}
