{
 "cells": [
  {
   "cell_type": "code",
   "execution_count": 28,
   "metadata": {},
   "outputs": [],
   "source": [
    "import os\n",
    "import glob\n",
    "import pandas as pd\n",
    "import pygsheets\n",
    "from oauth2client.service_account import ServiceAccountCredentials"
   ]
  },
  {
   "cell_type": "code",
   "execution_count": 2,
   "metadata": {},
   "outputs": [],
   "source": [
    "# identifies the location of the csv files\n",
    "path = r'/Users/username/folder'"
   ]
  },
  {
   "cell_type": "code",
   "execution_count": null,
   "metadata": {},
   "outputs": [],
   "source": [
    "# finds the csv files in the path\n",
    "all_files = glob.glob(os.path.join(path, \"*.csv\"))"
   ]
  },
  {
   "cell_type": "code",
   "execution_count": null,
   "metadata": {},
   "outputs": [],
   "source": [
    "df_list = []\n",
    "\n",
    "# loop over all the files in the path\n",
    "for f in all_files:\n",
    "    \n",
    "    # reads a single csv file's data and creates a dataframe for it\n",
    "    df_from_each_file = pd.read_csv(f, header=0, encoding=\"ISO-8859-1\")\n",
    "    \n",
    "    # inserts a date column as the first column and pulls in the date from the filename\n",
    "    df_from_each_file.insert(0, 'Date', os.path.basename(f).replace('.','_').split('_')[6])\n",
    "    \n",
    "    # appends the dataframes from each file to a list \n",
    "    df_list.append(df_from_each_file)\n",
    "\n",
    "# concatenates the lists into a single dataframe\n",
    "big_df = pd.concat(df_list, ignore_index=True)\n",
    "\n",
    "# limits the amount of rows of the dataframe shown\n",
    "pd.set_option('display.max_rows', 10)"
   ]
  },
  {
   "cell_type": "code",
   "execution_count": 33,
   "metadata": {},
   "outputs": [],
   "source": [
    "# Provides pygsheets access to your Google Sheets account\n",
    "gc = pygsheets.authorize(service_file='pygsheets_client_secret.json')"
   ]
  },
  {
   "cell_type": "code",
   "execution_count": 34,
   "metadata": {},
   "outputs": [],
   "source": [
    "# Identifies the GSheet and worksheet to push the data to\n",
    "Product_sheet = gc.open('GSheetName')\n",
    "Product_wksheet = Product_sheet.worksheet_by_title('GSheetWorksheetName')"
   ]
  },
  {
   "cell_type": "code",
   "execution_count": 35,
   "metadata": {},
   "outputs": [],
   "source": [
    "# Pushes the data to the GSheet, starting at the first row and column\n",
    "Product_wksheet.set_dataframe(big_df, (1,1))"
   ]
  }
 ],
 "metadata": {
  "anaconda-cloud": {},
  "kernelspec": {
   "display_name": "Python [conda root]",
   "language": "python",
   "name": "conda-root-py"
  },
  "language_info": {
   "codemirror_mode": {
    "name": "ipython",
    "version": 3
   },
   "file_extension": ".py",
   "mimetype": "text/x-python",
   "name": "python",
   "nbconvert_exporter": "python",
   "pygments_lexer": "ipython3",
   "version": "3.6.6"
  }
 },
 "nbformat": 4,
 "nbformat_minor": 2
}
